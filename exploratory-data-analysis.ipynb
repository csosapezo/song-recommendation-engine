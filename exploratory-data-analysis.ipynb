{
 "cells": [
  {
   "cell_type": "markdown",
   "id": "b4eff408",
   "metadata": {},
   "source": [
    "# Exploratory Data Analysis\n",
    "\n",
    "## 1. Import libraries"
   ]
  },
  {
   "cell_type": "code",
   "execution_count": 2,
   "id": "0fea003e",
   "metadata": {},
   "outputs": [],
   "source": [
    "import pandas as pd\n",
    "import matplotlib.pyplot as plt"
   ]
  },
  {
   "cell_type": "markdown",
   "id": "9c76a65a",
   "metadata": {},
   "source": [
    "## 2. Import the dataset"
   ]
  },
  {
   "cell_type": "code",
   "execution_count": 3,
   "id": "12e6e46c",
   "metadata": {},
   "outputs": [
    {
     "data": {
      "text/html": [
       "<div>\n",
       "<style scoped>\n",
       "    .dataframe tbody tr th:only-of-type {\n",
       "        vertical-align: middle;\n",
       "    }\n",
       "\n",
       "    .dataframe tbody tr th {\n",
       "        vertical-align: top;\n",
       "    }\n",
       "\n",
       "    .dataframe thead th {\n",
       "        text-align: right;\n",
       "    }\n",
       "</style>\n",
       "<table border=\"1\" class=\"dataframe\">\n",
       "  <thead>\n",
       "    <tr style=\"text-align: right;\">\n",
       "      <th></th>\n",
       "      <th>user</th>\n",
       "      <th>song</th>\n",
       "      <th>play_count</th>\n",
       "      <th>title</th>\n",
       "      <th>release</th>\n",
       "      <th>artist_name</th>\n",
       "      <th>year</th>\n",
       "    </tr>\n",
       "  </thead>\n",
       "  <tbody>\n",
       "    <tr>\n",
       "      <th>0</th>\n",
       "      <td>b80344d063b5ccb3212f76538f3d9e43d87dca9e</td>\n",
       "      <td>SOAKIMP12A8C130995</td>\n",
       "      <td>1</td>\n",
       "      <td>The Cove</td>\n",
       "      <td>Thicker Than Water</td>\n",
       "      <td>Jack Johnson</td>\n",
       "      <td>0</td>\n",
       "    </tr>\n",
       "    <tr>\n",
       "      <th>1</th>\n",
       "      <td>b80344d063b5ccb3212f76538f3d9e43d87dca9e</td>\n",
       "      <td>SOAPDEY12A81C210A9</td>\n",
       "      <td>1</td>\n",
       "      <td>Nothing from Nothing</td>\n",
       "      <td>To Die For</td>\n",
       "      <td>Billy Preston</td>\n",
       "      <td>1974</td>\n",
       "    </tr>\n",
       "    <tr>\n",
       "      <th>2</th>\n",
       "      <td>b80344d063b5ccb3212f76538f3d9e43d87dca9e</td>\n",
       "      <td>SOBBMDR12A8C13253B</td>\n",
       "      <td>2</td>\n",
       "      <td>Entre Dos Aguas</td>\n",
       "      <td>Flamenco Para Niños</td>\n",
       "      <td>Paco De Lucia</td>\n",
       "      <td>1976</td>\n",
       "    </tr>\n",
       "    <tr>\n",
       "      <th>3</th>\n",
       "      <td>b80344d063b5ccb3212f76538f3d9e43d87dca9e</td>\n",
       "      <td>SOBFNSP12AF72A0E22</td>\n",
       "      <td>1</td>\n",
       "      <td>Under Cold Blue Stars</td>\n",
       "      <td>Under Cold Blue Stars</td>\n",
       "      <td>Josh Rouse</td>\n",
       "      <td>2002</td>\n",
       "    </tr>\n",
       "    <tr>\n",
       "      <th>4</th>\n",
       "      <td>b80344d063b5ccb3212f76538f3d9e43d87dca9e</td>\n",
       "      <td>SOBFOVM12A58A7D494</td>\n",
       "      <td>1</td>\n",
       "      <td>Riot Radio (Soundtrack Version)</td>\n",
       "      <td>Nick &amp; Norah's Infinite Playlist - Original Mo...</td>\n",
       "      <td>The Dead 60s</td>\n",
       "      <td>0</td>\n",
       "    </tr>\n",
       "  </tbody>\n",
       "</table>\n",
       "</div>"
      ],
      "text/plain": [
       "                                       user                song  play_count  \\\n",
       "0  b80344d063b5ccb3212f76538f3d9e43d87dca9e  SOAKIMP12A8C130995           1   \n",
       "1  b80344d063b5ccb3212f76538f3d9e43d87dca9e  SOAPDEY12A81C210A9           1   \n",
       "2  b80344d063b5ccb3212f76538f3d9e43d87dca9e  SOBBMDR12A8C13253B           2   \n",
       "3  b80344d063b5ccb3212f76538f3d9e43d87dca9e  SOBFNSP12AF72A0E22           1   \n",
       "4  b80344d063b5ccb3212f76538f3d9e43d87dca9e  SOBFOVM12A58A7D494           1   \n",
       "\n",
       "                             title  \\\n",
       "0                         The Cove   \n",
       "1             Nothing from Nothing   \n",
       "2                  Entre Dos Aguas   \n",
       "3            Under Cold Blue Stars   \n",
       "4  Riot Radio (Soundtrack Version)   \n",
       "\n",
       "                                             release    artist_name  year  \n",
       "0                                 Thicker Than Water   Jack Johnson     0  \n",
       "1                                         To Die For  Billy Preston  1974  \n",
       "2                                Flamenco Para Niños  Paco De Lucia  1976  \n",
       "3                              Under Cold Blue Stars     Josh Rouse  2002  \n",
       "4  Nick & Norah's Infinite Playlist - Original Mo...   The Dead 60s     0  "
      ]
     },
     "execution_count": 3,
     "metadata": {},
     "output_type": "execute_result"
    }
   ],
   "source": [
    "df = pd.read_csv(\"song_dataset.csv\")\n",
    "df.head()"
   ]
  },
  {
   "cell_type": "code",
   "execution_count": 4,
   "id": "722d202c",
   "metadata": {},
   "outputs": [
    {
     "data": {
      "text/plain": [
       "102627"
      ]
     },
     "execution_count": 4,
     "metadata": {},
     "output_type": "execute_result"
    }
   ],
   "source": [
    "len(df)"
   ]
  },
  {
   "cell_type": "code",
   "execution_count": 5,
   "id": "a608d673",
   "metadata": {},
   "outputs": [
    {
     "data": {
      "text/plain": [
       "user            2042\n",
       "song           44458\n",
       "artist_name    11928\n",
       "dtype: int64"
      ]
     },
     "execution_count": 5,
     "metadata": {},
     "output_type": "execute_result"
    }
   ],
   "source": [
    "df[[\"user\", \"song\", \"artist_name\"]].nunique()"
   ]
  },
  {
   "cell_type": "markdown",
   "id": "19f5ea88",
   "metadata": {},
   "source": [
    "## 3. Most listened songs"
   ]
  },
  {
   "cell_type": "code",
   "execution_count": 6,
   "id": "4b325253",
   "metadata": {},
   "outputs": [
    {
     "data": {
      "text/html": [
       "<div>\n",
       "<style scoped>\n",
       "    .dataframe tbody tr th:only-of-type {\n",
       "        vertical-align: middle;\n",
       "    }\n",
       "\n",
       "    .dataframe tbody tr th {\n",
       "        vertical-align: top;\n",
       "    }\n",
       "\n",
       "    .dataframe thead th {\n",
       "        text-align: right;\n",
       "    }\n",
       "</style>\n",
       "<table border=\"1\" class=\"dataframe\">\n",
       "  <thead>\n",
       "    <tr style=\"text-align: right;\">\n",
       "      <th></th>\n",
       "      <th></th>\n",
       "      <th></th>\n",
       "      <th>play_count</th>\n",
       "    </tr>\n",
       "    <tr>\n",
       "      <th>song</th>\n",
       "      <th>title</th>\n",
       "      <th>artist_name</th>\n",
       "      <th></th>\n",
       "    </tr>\n",
       "  </thead>\n",
       "  <tbody>\n",
       "    <tr>\n",
       "      <th>SOFRRFT12A8C140C5C</th>\n",
       "      <th>Words</th>\n",
       "      <th>Jack the Ripper</th>\n",
       "      <td>1890</td>\n",
       "    </tr>\n",
       "    <tr>\n",
       "      <th>SOBONKR12A58A7A7E0</th>\n",
       "      <th>You're The One</th>\n",
       "      <th>Dwight Yoakam</th>\n",
       "      <td>1689</td>\n",
       "    </tr>\n",
       "    <tr>\n",
       "      <th>SOSXLTC12AF72A7F54</th>\n",
       "      <th>Revelry</th>\n",
       "      <th>Kings Of Leon</th>\n",
       "      <td>1490</td>\n",
       "    </tr>\n",
       "    <tr>\n",
       "      <th>SOAUWYT12A81C206F1</th>\n",
       "      <th>Undo</th>\n",
       "      <th>Björk</th>\n",
       "      <td>1443</td>\n",
       "    </tr>\n",
       "    <tr>\n",
       "      <th>SOEGIYH12A6D4FC0E3</th>\n",
       "      <th>Horn Concerto No. 4 in E flat K495: II. Romance (Andante cantabile)</th>\n",
       "      <th>Barry Tuckwell/Academy of St Martin-in-the-Fields/Sir Neville Marriner</th>\n",
       "      <td>921</td>\n",
       "    </tr>\n",
       "  </tbody>\n",
       "</table>\n",
       "</div>"
      ],
      "text/plain": [
       "                                                                                                                          play_count\n",
       "song               title                                              artist_name                                                   \n",
       "SOFRRFT12A8C140C5C Words                                              Jack the Ripper                                           1890\n",
       "SOBONKR12A58A7A7E0 You're The One                                     Dwight Yoakam                                             1689\n",
       "SOSXLTC12AF72A7F54 Revelry                                            Kings Of Leon                                             1490\n",
       "SOAUWYT12A81C206F1 Undo                                               Björk                                                     1443\n",
       "SOEGIYH12A6D4FC0E3 Horn Concerto No. 4 in E flat K495: II. Romance... Barry Tuckwell/Academy of St Martin-in-the-Fiel...         921"
      ]
     },
     "execution_count": 6,
     "metadata": {},
     "output_type": "execute_result"
    }
   ],
   "source": [
    "songs_count_df = df[[\"song\", \"title\", \"artist_name\", \"play_count\"]].groupby(by=[\"song\", \"title\", \"artist_name\"]).sum().sort_values(by=\"play_count\", ascending=False)\n",
    "songs_count_df.head()"
   ]
  },
  {
   "cell_type": "markdown",
   "id": "2ff54b9c",
   "metadata": {},
   "source": [
    "## 4. Most listened artists"
   ]
  },
  {
   "cell_type": "code",
   "execution_count": 7,
   "id": "e7707d8b",
   "metadata": {},
   "outputs": [
    {
     "data": {
      "text/html": [
       "<div>\n",
       "<style scoped>\n",
       "    .dataframe tbody tr th:only-of-type {\n",
       "        vertical-align: middle;\n",
       "    }\n",
       "\n",
       "    .dataframe tbody tr th {\n",
       "        vertical-align: top;\n",
       "    }\n",
       "\n",
       "    .dataframe thead th {\n",
       "        text-align: right;\n",
       "    }\n",
       "</style>\n",
       "<table border=\"1\" class=\"dataframe\">\n",
       "  <thead>\n",
       "    <tr style=\"text-align: right;\">\n",
       "      <th></th>\n",
       "      <th>play_count</th>\n",
       "    </tr>\n",
       "    <tr>\n",
       "      <th>artist_name</th>\n",
       "      <th></th>\n",
       "    </tr>\n",
       "  </thead>\n",
       "  <tbody>\n",
       "    <tr>\n",
       "      <th>Kings Of Leon</th>\n",
       "      <td>2765</td>\n",
       "    </tr>\n",
       "    <tr>\n",
       "      <th>The Black Keys</th>\n",
       "      <td>1912</td>\n",
       "    </tr>\n",
       "    <tr>\n",
       "      <th>Jack the Ripper</th>\n",
       "      <td>1890</td>\n",
       "    </tr>\n",
       "    <tr>\n",
       "      <th>Coldplay</th>\n",
       "      <td>1830</td>\n",
       "    </tr>\n",
       "    <tr>\n",
       "      <th>Dwight Yoakam</th>\n",
       "      <td>1705</td>\n",
       "    </tr>\n",
       "  </tbody>\n",
       "</table>\n",
       "</div>"
      ],
      "text/plain": [
       "                 play_count\n",
       "artist_name                \n",
       "Kings Of Leon          2765\n",
       "The Black Keys         1912\n",
       "Jack the Ripper        1890\n",
       "Coldplay               1830\n",
       "Dwight Yoakam          1705"
      ]
     },
     "execution_count": 7,
     "metadata": {},
     "output_type": "execute_result"
    }
   ],
   "source": [
    "artist_count_df = df[[\"artist_name\", \"play_count\"]].groupby(by=[\"artist_name\"]).sum().sort_values(by=\"play_count\", ascending=False)\n",
    "artist_count_df.head()"
   ]
  },
  {
   "cell_type": "markdown",
   "id": "2e9b0754",
   "metadata": {},
   "source": [
    "## 5. User activity"
   ]
  },
  {
   "cell_type": "code",
   "execution_count": 8,
   "id": "c32a39db",
   "metadata": {},
   "outputs": [
    {
     "data": {
      "image/png": "[encoded data removed]",
      "text/plain": [
       "<Figure size 2000x1000 with 1 Axes>"
      ]
     },
     "metadata": {},
     "output_type": "display_data"
    }
   ],
   "source": [
    "user_activity_df = df[[\"user\", \"play_count\"]].groupby(\"user\").sum()\n",
    "ax = user_activity_df.plot(\n",
    "    kind=\"hist\",\n",
    "    figsize=(20,10),\n",
    "    bins=200,\n",
    "    title=\"Users by Number of Reproductions\",\n",
    ")"
   ]
  },
  {
   "cell_type": "code",
   "execution_count": 9,
   "id": "08148e9c",
   "metadata": {},
   "outputs": [
    {
     "data": {
      "text/html": [
       "<div>\n",
       "<style scoped>\n",
       "    .dataframe tbody tr th:only-of-type {\n",
       "        vertical-align: middle;\n",
       "    }\n",
       "\n",
       "    .dataframe tbody tr th {\n",
       "        vertical-align: top;\n",
       "    }\n",
       "\n",
       "    .dataframe thead th {\n",
       "        text-align: right;\n",
       "    }\n",
       "</style>\n",
       "<table border=\"1\" class=\"dataframe\">\n",
       "  <thead>\n",
       "    <tr style=\"text-align: right;\">\n",
       "      <th></th>\n",
       "      <th>play_count</th>\n",
       "    </tr>\n",
       "  </thead>\n",
       "  <tbody>\n",
       "    <tr>\n",
       "      <th>count</th>\n",
       "      <td>2042.000000</td>\n",
       "    </tr>\n",
       "    <tr>\n",
       "      <th>mean</th>\n",
       "      <td>145.034280</td>\n",
       "    </tr>\n",
       "    <tr>\n",
       "      <th>std</th>\n",
       "      <td>196.394275</td>\n",
       "    </tr>\n",
       "    <tr>\n",
       "      <th>min</th>\n",
       "      <td>10.000000</td>\n",
       "    </tr>\n",
       "    <tr>\n",
       "      <th>25%</th>\n",
       "      <td>36.000000</td>\n",
       "    </tr>\n",
       "    <tr>\n",
       "      <th>50%</th>\n",
       "      <td>78.000000</td>\n",
       "    </tr>\n",
       "    <tr>\n",
       "      <th>75%</th>\n",
       "      <td>168.000000</td>\n",
       "    </tr>\n",
       "    <tr>\n",
       "      <th>max</th>\n",
       "      <td>2597.000000</td>\n",
       "    </tr>\n",
       "  </tbody>\n",
       "</table>\n",
       "</div>"
      ],
      "text/plain": [
       "        play_count\n",
       "count  2042.000000\n",
       "mean    145.034280\n",
       "std     196.394275\n",
       "min      10.000000\n",
       "25%      36.000000\n",
       "50%      78.000000\n",
       "75%     168.000000\n",
       "max    2597.000000"
      ]
     },
     "execution_count": 9,
     "metadata": {},
     "output_type": "execute_result"
    }
   ],
   "source": [
    "user_activity_df.describe()"
   ]
  },
  {
   "cell_type": "markdown",
   "id": "9176300d",
   "metadata": {},
   "source": [
    "## 6. Users by distinct songs played"
   ]
  },
  {
   "cell_type": "code",
   "execution_count": 10,
   "id": "82056343",
   "metadata": {},
   "outputs": [
    {
     "data": {
      "text/plain": [
       "<AxesSubplot: title={'center': 'Users by Number of Songs Listened'}, ylabel='Frequency'>"
      ]
     },
     "execution_count": 10,
     "metadata": {},
     "output_type": "execute_result"
    },
    {
     "data": {
      "image/png": "[encoded data removed]",
      "text/plain": [
       "<Figure size 2000x1000 with 1 Axes>"
      ]
     },
     "metadata": {},
     "output_type": "display_data"
    }
   ],
   "source": [
    "user_songs_df = df[[\"user\", \"song\"]].groupby(\"user\").count()\n",
    "user_songs_df.plot(\n",
    "    kind=\"hist\",\n",
    "    figsize=(20,10),\n",
    "    bins=200,\n",
    "    title=\"Users by Number of Songs Listened\",\n",
    ")"
   ]
  },
  {
   "cell_type": "code",
   "execution_count": 11,
   "id": "b5ce9cc0",
   "metadata": {},
   "outputs": [
    {
     "data": {
      "text/html": [
       "<div>\n",
       "<style scoped>\n",
       "    .dataframe tbody tr th:only-of-type {\n",
       "        vertical-align: middle;\n",
       "    }\n",
       "\n",
       "    .dataframe tbody tr th {\n",
       "        vertical-align: top;\n",
       "    }\n",
       "\n",
       "    .dataframe thead th {\n",
       "        text-align: right;\n",
       "    }\n",
       "</style>\n",
       "<table border=\"1\" class=\"dataframe\">\n",
       "  <thead>\n",
       "    <tr style=\"text-align: right;\">\n",
       "      <th></th>\n",
       "      <th>song</th>\n",
       "    </tr>\n",
       "  </thead>\n",
       "  <tbody>\n",
       "    <tr>\n",
       "      <th>count</th>\n",
       "      <td>2042.000000</td>\n",
       "    </tr>\n",
       "    <tr>\n",
       "      <th>mean</th>\n",
       "      <td>50.258080</td>\n",
       "    </tr>\n",
       "    <tr>\n",
       "      <th>std</th>\n",
       "      <td>65.800267</td>\n",
       "    </tr>\n",
       "    <tr>\n",
       "      <th>min</th>\n",
       "      <td>10.000000</td>\n",
       "    </tr>\n",
       "    <tr>\n",
       "      <th>25%</th>\n",
       "      <td>17.000000</td>\n",
       "    </tr>\n",
       "    <tr>\n",
       "      <th>50%</th>\n",
       "      <td>29.000000</td>\n",
       "    </tr>\n",
       "    <tr>\n",
       "      <th>75%</th>\n",
       "      <td>58.000000</td>\n",
       "    </tr>\n",
       "    <tr>\n",
       "      <th>max</th>\n",
       "      <td>1309.000000</td>\n",
       "    </tr>\n",
       "  </tbody>\n",
       "</table>\n",
       "</div>"
      ],
      "text/plain": [
       "              song\n",
       "count  2042.000000\n",
       "mean     50.258080\n",
       "std      65.800267\n",
       "min      10.000000\n",
       "25%      17.000000\n",
       "50%      29.000000\n",
       "75%      58.000000\n",
       "max    1309.000000"
      ]
     },
     "execution_count": 11,
     "metadata": {},
     "output_type": "execute_result"
    }
   ],
   "source": [
    "user_songs_df.describe()"
   ]
  },
  {
   "cell_type": "markdown",
   "id": "27289eac",
   "metadata": {},
   "source": [
    "## 7. Song distribution"
   ]
  },
  {
   "cell_type": "code",
   "execution_count": 12,
   "id": "b9d251df",
   "metadata": {},
   "outputs": [
    {
     "data": {
      "image/png": "[encoded data removed]",
      "text/plain": [
       "<Figure size 2000x1000 with 1 Axes>"
      ]
     },
     "metadata": {},
     "output_type": "display_data"
    }
   ],
   "source": [
    "song_dist_df = df[[\"song\", \"play_count\"]].groupby(\"song\").sum()\n",
    "ax = song_dist_df.plot(\n",
    "    kind=\"hist\",\n",
    "    figsize=(20,10),\n",
    "    bins=200,\n",
    "    title=\"Songs reproduction\",\n",
    ")"
   ]
  },
  {
   "cell_type": "code",
   "execution_count": 13,
   "id": "91720ef0",
   "metadata": {},
   "outputs": [
    {
     "data": {
      "text/html": [
       "<div>\n",
       "<style scoped>\n",
       "    .dataframe tbody tr th:only-of-type {\n",
       "        vertical-align: middle;\n",
       "    }\n",
       "\n",
       "    .dataframe tbody tr th {\n",
       "        vertical-align: top;\n",
       "    }\n",
       "\n",
       "    .dataframe thead th {\n",
       "        text-align: right;\n",
       "    }\n",
       "</style>\n",
       "<table border=\"1\" class=\"dataframe\">\n",
       "  <thead>\n",
       "    <tr style=\"text-align: right;\">\n",
       "      <th></th>\n",
       "      <th>play_count</th>\n",
       "    </tr>\n",
       "  </thead>\n",
       "  <tbody>\n",
       "    <tr>\n",
       "      <th>count</th>\n",
       "      <td>44458.000000</td>\n",
       "    </tr>\n",
       "    <tr>\n",
       "      <th>mean</th>\n",
       "      <td>6.661568</td>\n",
       "    </tr>\n",
       "    <tr>\n",
       "      <th>std</th>\n",
       "      <td>24.311012</td>\n",
       "    </tr>\n",
       "    <tr>\n",
       "      <th>min</th>\n",
       "      <td>1.000000</td>\n",
       "    </tr>\n",
       "    <tr>\n",
       "      <th>25%</th>\n",
       "      <td>1.000000</td>\n",
       "    </tr>\n",
       "    <tr>\n",
       "      <th>50%</th>\n",
       "      <td>2.000000</td>\n",
       "    </tr>\n",
       "    <tr>\n",
       "      <th>75%</th>\n",
       "      <td>6.000000</td>\n",
       "    </tr>\n",
       "    <tr>\n",
       "      <th>max</th>\n",
       "      <td>1890.000000</td>\n",
       "    </tr>\n",
       "  </tbody>\n",
       "</table>\n",
       "</div>"
      ],
      "text/plain": [
       "         play_count\n",
       "count  44458.000000\n",
       "mean       6.661568\n",
       "std       24.311012\n",
       "min        1.000000\n",
       "25%        1.000000\n",
       "50%        2.000000\n",
       "75%        6.000000\n",
       "max     1890.000000"
      ]
     },
     "execution_count": 13,
     "metadata": {},
     "output_type": "execute_result"
    }
   ],
   "source": [
    "song_dist_df.describe()"
   ]
  },
  {
   "cell_type": "markdown",
   "id": "c686099b",
   "metadata": {},
   "source": [
    "## 8. Percentage of songs listened only once"
   ]
  },
  {
   "cell_type": "code",
   "execution_count": 14,
   "id": "1e79367e",
   "metadata": {},
   "outputs": [
    {
     "data": {
      "text/plain": [
       "0.38899635611138605"
      ]
     },
     "execution_count": 14,
     "metadata": {},
     "output_type": "execute_result"
    }
   ],
   "source": [
    "len(song_dist_df[song_dist_df[\"play_count\"] <= 1])/len(song_dist_df)"
   ]
  },
  {
   "cell_type": "markdown",
   "id": "2e81aa41",
   "metadata": {},
   "source": [
    "## 9. Song by unique listeners"
   ]
  },
  {
   "cell_type": "code",
   "execution_count": 15,
   "id": "d845f109",
   "metadata": {},
   "outputs": [
    {
     "data": {
      "image/png": "[encoded data removed]",
      "text/plain": [
       "<Figure size 1000x1000 with 1 Axes>"
      ]
     },
     "metadata": {},
     "output_type": "display_data"
    }
   ],
   "source": [
    "song_unique_user_df = df[[\"song\", \"user\"]].groupby(\"song\").count()\n",
    "ax = song_unique_user_df.plot(\n",
    "    kind=\"hist\",\n",
    "    figsize=(10,10),\n",
    "    bins=200,\n",
    "    title=\"Songs by Unique Listeners\",\n",
    ")"
   ]
  },
  {
   "cell_type": "code",
   "execution_count": 16,
   "id": "4fccc20b",
   "metadata": {},
   "outputs": [
    {
     "data": {
      "text/html": [
       "<div>\n",
       "<style scoped>\n",
       "    .dataframe tbody tr th:only-of-type {\n",
       "        vertical-align: middle;\n",
       "    }\n",
       "\n",
       "    .dataframe tbody tr th {\n",
       "        vertical-align: top;\n",
       "    }\n",
       "\n",
       "    .dataframe thead th {\n",
       "        text-align: right;\n",
       "    }\n",
       "</style>\n",
       "<table border=\"1\" class=\"dataframe\">\n",
       "  <thead>\n",
       "    <tr style=\"text-align: right;\">\n",
       "      <th></th>\n",
       "      <th>user</th>\n",
       "    </tr>\n",
       "  </thead>\n",
       "  <tbody>\n",
       "    <tr>\n",
       "      <th>count</th>\n",
       "      <td>44458.000000</td>\n",
       "    </tr>\n",
       "    <tr>\n",
       "      <th>mean</th>\n",
       "      <td>2.308403</td>\n",
       "    </tr>\n",
       "    <tr>\n",
       "      <th>std</th>\n",
       "      <td>5.075990</td>\n",
       "    </tr>\n",
       "    <tr>\n",
       "      <th>min</th>\n",
       "      <td>1.000000</td>\n",
       "    </tr>\n",
       "    <tr>\n",
       "      <th>25%</th>\n",
       "      <td>1.000000</td>\n",
       "    </tr>\n",
       "    <tr>\n",
       "      <th>50%</th>\n",
       "      <td>1.000000</td>\n",
       "    </tr>\n",
       "    <tr>\n",
       "      <th>75%</th>\n",
       "      <td>2.000000</td>\n",
       "    </tr>\n",
       "    <tr>\n",
       "      <th>max</th>\n",
       "      <td>221.000000</td>\n",
       "    </tr>\n",
       "  </tbody>\n",
       "</table>\n",
       "</div>"
      ],
      "text/plain": [
       "               user\n",
       "count  44458.000000\n",
       "mean       2.308403\n",
       "std        5.075990\n",
       "min        1.000000\n",
       "25%        1.000000\n",
       "50%        1.000000\n",
       "75%        2.000000\n",
       "max      221.000000"
      ]
     },
     "execution_count": 16,
     "metadata": {},
     "output_type": "execute_result"
    }
   ],
   "source": [
    "song_unique_user_df.describe()"
   ]
  },
  {
   "cell_type": "markdown",
   "id": "639a136f",
   "metadata": {},
   "source": [
    "## 8. Percentage of songs listened only by one user"
   ]
  },
  {
   "cell_type": "code",
   "execution_count": 17,
   "id": "2ccb8ef9",
   "metadata": {},
   "outputs": [
    {
     "data": {
      "text/plain": [
       "0.6290656349813307"
      ]
     },
     "execution_count": 17,
     "metadata": {},
     "output_type": "execute_result"
    }
   ],
   "source": [
    "len(song_unique_user_df[song_unique_user_df[\"user\"] <= 1])/len(song_unique_user_df)"
   ]
  },
  {
   "cell_type": "markdown",
   "metadata": {},
   "source": [
    "## 9. Albums by number of users who have listened to all their tracks"
   ]
  },
  {
   "cell_type": "code",
   "execution_count": 64,
   "metadata": {},
   "outputs": [
    {
     "data": {
      "text/plain": [
       "2860"
      ]
     },
     "execution_count": 64,
     "metadata": {},
     "output_type": "execute_result"
    }
   ],
   "source": [
    "# amount of EP + LP\n",
    "# that means that the release must have at least 4 tracks\n",
    "\n",
    "df[\"artist+release\"] = df[\"artist_name\"] + \"_\" + df[\"release\"]\n",
    "releases_df = df.groupby(by=[\"artist+release\", \"song\"]).count().reset_index().groupby(by=[\"artist+release\"]).count().sort_values(\"song\", ascending=False)\n",
    "albums = releases_df.loc[releases_df.song >= 4].reset_index()\n",
    "len(albums)"
   ]
  },
  {
   "cell_type": "code",
   "execution_count": 82,
   "metadata": {},
   "outputs": [
    {
     "data": {
      "text/plain": [
       "array([[<AxesSubplot: title={'center': 'user'}>]], dtype=object)"
      ]
     },
     "execution_count": 82,
     "metadata": {},
     "output_type": "execute_result"
    },
    {
     "data": {
      "image/png": "[encoded data removed]",
      "text/plain": [
       "<Figure size 640x480 with 1 Axes>"
      ]
     },
     "metadata": {},
     "output_type": "display_data"
    }
   ],
   "source": [
    "album_user_df = df.groupby(by=[\"artist+release\", \"user\"]).count().sort_values(\"play_count\", ascending=False).reset_index()\n",
    "album_user_df = album_user_df.loc[album_user_df[\"artist+release\"].isin(albums[\"artist+release\"])]\n",
    "# keep only users who listened to all the songs in the album\n",
    "album_user_df = album_user_df.merge(albums[[\"artist+release\", \"song\"]])\n",
    "# count those users\n",
    "album_user_df = album_user_df.groupby(\"artist+release\").count().reset_index()\n",
    "album_user_df = album_user_df[[\"artist+release\", \"user\"]]\n",
    "album_user_df.hist()"
   ]
  }
 ],
 "metadata": {
  "kernelspec": {
   "display_name": "Python 3 (ipykernel)",
   "language": "python",
   "name": "python3"
  },
  "language_info": {
   "codemirror_mode": {
    "name": "ipython",
    "version": 3
   },
   "file_extension": ".py",
   "mimetype": "text/x-python",
   "name": "python",
   "nbconvert_exporter": "python",
   "pygments_lexer": "ipython3",
   "version": "3.11.4"
  }
 },
 "nbformat": 4,
 "nbformat_minor": 5
}
